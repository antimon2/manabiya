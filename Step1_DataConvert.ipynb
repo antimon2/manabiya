{
 "cells": [
  {
   "cell_type": "markdown",
   "metadata": {},
   "source": [
    "# Annotation データの変換"
   ]
  },
  {
   "cell_type": "markdown",
   "metadata": {},
   "source": [
    "Annotation Factory（以下、AFと略記）を利用して作成した Annotation データを、SSD (Single Shot Multibox Detector) で学習できる形式に変換します。"
   ]
  },
  {
   "cell_type": "markdown",
   "metadata": {},
   "source": [
    "## 準備"
   ]
  },
  {
   "cell_type": "code",
   "execution_count": null,
   "metadata": {
    "collapsed": true
   },
   "outputs": [],
   "source": [
    "import sys\n",
    "sys.path.append(r'../models/research/object_detection')\n",
    "\n",
    "import glob\n",
    "import json\n",
    "import re\n",
    "import tensorflow as tf\n",
    "from utils import dataset_util"
   ]
  },
  {
   "cell_type": "markdown",
   "metadata": {},
   "source": [
    "※ノートブックインスタンス起動直後は、少し時間がかかる場合があります。"
   ]
  },
  {
   "cell_type": "markdown",
   "metadata": {},
   "source": [
    "## AFの形式確認"
   ]
  },
  {
   "cell_type": "markdown",
   "metadata": {},
   "source": [
    "AFの出力したAnnotationデータ（.json ファイル）を読み込んで、構造を確認します。"
   ]
  },
  {
   "cell_type": "code",
   "execution_count": null,
   "metadata": {
    "collapsed": true
   },
   "outputs": [],
   "source": [
    "def printRecursive(obj, depth=0):\n",
    "    if isinstance(obj, dict):\n",
    "        for k, v in obj.items():\n",
    "            spacer = \"  \" * depth\n",
    "            print(\"{}{}: {}\".format(spacer, k, type(v)))\n",
    "            printRecursive(v, depth + 1)\n",
    "    if isinstance(obj,list):\n",
    "        for v in obj:\n",
    "            printRecursive(v, depth + 1)\n",
    "            \n",
    "            \n",
    "for annotation_json_path in glob.glob(\"./data-manabiya/width1000/json/*.json\"):\n",
    "    print(annotation_json_path)\n",
    "    json_dict = json.load(open(annotation_json_path, 'r'))\n",
    "    printRecursive(json_dict)"
   ]
  },
  {
   "cell_type": "markdown",
   "metadata": {},
   "source": [
    "AFのアノテーション、現在はこんな構造。これを SSD 用に変換する\n",
    "\n",
    "```\n",
    "input_data_id: <type 'unicode'>\n",
    "comment: <type 'unicode'>\n",
    "task_id: <type 'unicode'>\n",
    "detail: <type 'list'>\n",
    "        comment: <type 'unicode'>\n",
    "        user_id: <type 'unicode'>\n",
    "        account_id: <type 'unicode'>\n",
    "        annotation_id: <type 'unicode'>\n",
    "        label_name: <type 'unicode'>\n",
    "        label_id: <type 'unicode'>\n",
    "        data_holding_type: <type 'unicode'>\n",
    "        data: <type 'unicode'>\n",
    "        additional_data_list: <type 'list'>\n",
    "                type: <type 'unicode'>\n",
    "                choice: <type 'unicode'>\n",
    "                additional_data_definition_name: <type 'unicode'>\n",
    "                choice_name: <type 'unicode'>\n",
    "                additional_data_definition_id: <type 'unicode'>\n",
    "```"
   ]
  },
  {
   "cell_type": "markdown",
   "metadata": {},
   "source": [
    "TF Object Detection に自分のデータセットを学習させるためには、データを TFRecords という形式にする必要がある。  \n",
    "https://www.tensorflow.org/api_guides/python/python_io#tfrecords_format_details"
   ]
  },
  {
   "cell_type": "markdown",
   "metadata": {},
   "source": [
    "## SSDのデータセット構造"
   ]
  },
  {
   "cell_type": "markdown",
   "metadata": {},
   "source": [
    "TF Object Detection に用意されている TFRecords のファイルを読み込んで、構造を確認します。"
   ]
  },
  {
   "cell_type": "code",
   "execution_count": null,
   "metadata": {
    "collapsed": true
   },
   "outputs": [],
   "source": [
    "re_example_type = re.compile(\"^(\\S+)\\s\")\n",
    "re_example_value = re.compile(\"^\\S+\\s\\{\\n\\s+value:(.*)\\n\\}\")\n",
    "\n",
    "def truncate(s, limit):\n",
    "    if len(s) > limit:\n",
    "        return s[:limit] + \"... (truncated)\"\n",
    "    else:\n",
    "        return s\n",
    "\n",
    "for record in tf.python_io.tf_record_iterator(\"../models/research/object_detection/test_data/pets_examples.record\"):\n",
    "    example = tf.train.Example.FromString(record)\n",
    "    \n",
    "    print(\"見本:\")\n",
    "    for key in sorted(example.features.feature):\n",
    "        v = example.features.feature[key]\n",
    "        vtype = re_example_type.search(str(v)).group(0)\n",
    "        vvalue = re_example_value.search(str(v)).group(1)\n",
    "        print(\"  {}: {} = {}\".format(key, vtype, truncate(vvalue, 50)))\n",
    "\n",
    "    print(\"raw:\")\n",
    "    for key in sorted(example.features.feature):\n",
    "        v = example.features.feature[key]\n",
    "        print(\"  {}: {}\".format(key, v))\n",
    "\n",
    "    # 型と見本を見たいだけなので1個で終了    \n",
    "    break    "
   ]
  },
  {
   "cell_type": "markdown",
   "metadata": {},
   "source": [
    "## 変換"
   ]
  },
  {
   "cell_type": "code",
   "execution_count": null,
   "metadata": {
    "collapsed": true
   },
   "outputs": [],
   "source": [
    "\"\"\"指定した点を全て含む矩形（＝Bounding Box）を返す。\"\"\"\n",
    "def bounding_box(coordinates):\n",
    "    _x = 0\n",
    "    _y = 1\n",
    "    _xs = [t[_x] for t in coordinates]\n",
    "    _ys = [t[_y] for t in coordinates]\n",
    "    min_x, min_y = min(_xs), min(_ys)\n",
    "    max_x, max_y = max(_xs), max(_ys)\n",
    "    return (min_x, min_y, max_x, max_y)\n",
    "\n",
    "bounding_box([(1,1), (2,4), (3,3)])"
   ]
  },
  {
   "cell_type": "code",
   "execution_count": null,
   "metadata": {
    "collapsed": true
   },
   "outputs": [],
   "source": [
    "\"\"\"input_data_id と ファイル名の対応\"\"\"\n",
    "input_data_id_2_input_name = {\n",
    "    \"2e152501-d5d9-4026-bde0-7c28c1e773e0\":\"540782936.273833.png\",\n",
    "    \"41816be2-3f57-4be9-bfd3-d228a4c1ca69\":\"540782823.324211.png\",\n",
    "    \"418fc9c8-3ec4-49b2-8176-a8cf5376c026\":\"540782586.412328.png\",\n",
    "    \"85228d61-209f-4675-b30b-fd842b5623a1\":\"540782457.810163.png\",\n",
    "    \"b257a1e9-433d-480d-a41e-ef1dbf29d67e\":\"540782780.456003.png\",\n",
    "    \"b4c190e3-9599-4d7f-9d97-d23b09752fdc\":\"540782910.323475.png\"\n",
    "}"
   ]
  },
  {
   "cell_type": "code",
   "execution_count": null,
   "metadata": {
    "collapsed": true
   },
   "outputs": [],
   "source": [
    "\"\"\"クラス名とインデックス（1-origin）の対応\"\"\"\n",
    "class_text_2_index = {label: index for (index, label) in enumerate([\n",
    "    \"january-normal\", \"january-poetry-ribbon\", \"january-special-crane-and-sun\",\n",
    "    \"february-normal\", \"february-poetry-ribbon\", \"february-special-bush-warbler-in-a-tree\",\n",
    "    \"march-normal\", \"march-poetry-ribbon\", \"march-special-camp-curtain\",\n",
    "    \"april-normal\", \"april-red-ribbon\", \"april-special-cuckoo\",\n",
    "    \"may-normal\", \"may-red-ribbon\", \"may-special-water-irs-and-eight-plank-bridge\",\n",
    "    \"june-normal\", \"june-purple-ribbon\", \"june-special-butterflies\",\n",
    "    \"july-normal\", \"july-red-ribbon\", \"july-special-boar\", \n",
    "    \"august-normal\", \"august-special-geese-in-flight\", \"august-special-full-moon-with-red-sky\",\n",
    "    \"september-normal\", \"september-purple-ribbon\", \"september-special-poetry-sake-cup\",\n",
    "    \"october-normal\", \"october-purple-ribbon\", \"october-special-deer-and-maple\",\n",
    "    \"november-red-ribbon\", \"november-special-lightning\", \"november-special-swallow\", \"november-special-rainman-with-umbrella-and-frog\",\n",
    "    \"december-normal\", \"december-special-chinese-phoenix\"\n",
    "], 1)}"
   ]
  },
  {
   "cell_type": "code",
   "execution_count": null,
   "metadata": {
    "collapsed": true
   },
   "outputs": [],
   "source": [
    "\"\"\"画像を読み込んでPNGエンコードしたバイト列を返す。\"\"\"\n",
    "def byte_encode_image(imagepath):\n",
    "    import io \n",
    "    from PIL import Image\n",
    "\n",
    "    with open(imagepath, \"r\") as imageFile:\n",
    "        img = Image.open(imageFile, mode='r')    \n",
    "        imgByteArr = io.BytesIO()\n",
    "        img.save(imgByteArr, format='PNG')\n",
    "        return imgByteArr.getvalue()"
   ]
  },
  {
   "cell_type": "code",
   "execution_count": null,
   "metadata": {
    "collapsed": true
   },
   "outputs": [],
   "source": [
    "# TFRecords 形式のファイル名\n",
    "tfrecords_out_path = \"af_dataset.record\""
   ]
  },
  {
   "cell_type": "code",
   "execution_count": null,
   "metadata": {
    "collapsed": true
   },
   "outputs": [],
   "source": [
    "%%time\n",
    "# 変換実施\n",
    "with tf.python_io.TFRecordWriter(tfrecords_out_path) as writer:\n",
    "    for annotation_json_path in glob.glob(\"./data-manabiya/width1000/json/*.json\"):\n",
    "        json_dict = json.load(open(annotation_json_path, 'r'))\n",
    "        filename = input_data_id_2_input_name[json_dict[\"input_data_id\"]]\n",
    "        image_path = \"./data-manabiya/width1000/image/{}\".format(filename)\n",
    "        # 画像サイズは決め打ち\n",
    "        width,height = 1000.0, 750.0\n",
    "        encoded_image_data = byte_encode_image(image_path)\n",
    "        \n",
    "        # 1画像内の複数アノテーションを扱うため配列\n",
    "        xmins = []\n",
    "        xmaxs = []\n",
    "        ymins = []\n",
    "        ymaxs = []\n",
    "        classes_text = []\n",
    "        classes = []\n",
    "        \n",
    "        for annotation in json_dict[\"detail\"]:           \n",
    "            flat_coordinates = annotation[\"data\"].split(\",\")\n",
    "            xy_coordinates = [(int(x),int(y)) for (x,y) in zip(*[iter(flat_coordinates)]*2)]\n",
    "            min_x, min_y, max_x, max_y = bounding_box(xy_coordinates)\n",
    "            xmins.append(min_x / width)\n",
    "            ymins.append(min_y / height)\n",
    "            xmaxs.append(max_x / width)\n",
    "            ymaxs.append(max_y / height)\n",
    "            class_text = str(annotation[\"additional_data_list\"][0][\"choice\"])\n",
    "            classes_text.append(class_text)\n",
    "            classes.append(class_text_2_index[class_text])\n",
    "\n",
    "        example = tf.train.Example(features=tf.train.Features(feature={\n",
    "            'image/height': dataset_util.int64_feature(int(height)),\n",
    "            'image/width': dataset_util.int64_feature(int(width)),\n",
    "            'image/filename': dataset_util.bytes_feature(filename),\n",
    "            'image/source_id': dataset_util.bytes_feature(filename),\n",
    "            'image/encoded': dataset_util.bytes_feature(encoded_image_data),\n",
    "            'image/format': dataset_util.bytes_feature(\"png\"),\n",
    "            'image/object/bbox/xmin': dataset_util.float_list_feature(xmins),\n",
    "            'image/object/bbox/xmax': dataset_util.float_list_feature(xmaxs),\n",
    "            'image/object/bbox/ymin': dataset_util.float_list_feature(ymins),\n",
    "            'image/object/bbox/ymax': dataset_util.float_list_feature(ymaxs),\n",
    "            'image/object/class/text': dataset_util.bytes_list_feature(classes_text),\n",
    "            'image/object/class/label': dataset_util.int64_list_feature(classes),\n",
    "        }))\n",
    "        writer.write(example.SerializeToString())"
   ]
  },
  {
   "cell_type": "markdown",
   "metadata": {},
   "source": [
    "## ラベルマップ出力"
   ]
  },
  {
   "cell_type": "markdown",
   "metadata": {},
   "source": [
    "ラベルマップは、TF Object Detection の学習（訓練・検証）で利用する、クラスIDとクラス名の対応を記述したファイルです。"
   ]
  },
  {
   "cell_type": "code",
   "execution_count": null,
   "metadata": {
    "collapsed": true,
    "scrolled": true
   },
   "outputs": [],
   "source": [
    "index_2_class_text = {index: label for (label, index) in class_text_2_index.items()}\n",
    "index_2_class_text"
   ]
  },
  {
   "cell_type": "code",
   "execution_count": null,
   "metadata": {
    "collapsed": true
   },
   "outputs": [],
   "source": [
    "# ラベルマップファイル名\n",
    "label_map_filepath = \"label_map.pbtxt\""
   ]
  },
  {
   "cell_type": "code",
   "execution_count": null,
   "metadata": {
    "collapsed": true
   },
   "outputs": [],
   "source": [
    "%%time\n",
    "# 出力\n",
    "with open(label_map_filepath, \"w\") as f:\n",
    "    for index in sorted(index_2_class_text.keys()):\n",
    "        label = index_2_class_text[index]\n",
    "        f.write(\"item {\\n\")\n",
    "        f.write(\"  id: {}\\n\".format(index))\n",
    "        f.write(\"  name: '{}'\\n\".format(label))\n",
    "        f.write(\"}\\n\")"
   ]
  }
 ],
 "metadata": {
  "kernelspec": {
   "display_name": "conda_tensorflow_p27",
   "language": "python",
   "name": "conda_tensorflow_p27"
  },
  "language_info": {
   "codemirror_mode": {
    "name": "ipython",
    "version": 2
   },
   "file_extension": ".py",
   "mimetype": "text/x-python",
   "name": "python",
   "nbconvert_exporter": "python",
   "pygments_lexer": "ipython2",
   "version": "2.7.11"
  }
 },
 "nbformat": 4,
 "nbformat_minor": 2
}
