{
 "cells": [
  {
   "cell_type": "markdown",
   "metadata": {},
   "source": [
    "# 学習（SSD）"
   ]
  },
  {
   "cell_type": "markdown",
   "metadata": {},
   "source": [
    "準備（変換）した学習データを用いて、実際に SSD (Single Shot Multibox Detector) で学習を実行します。"
   ]
  },
  {
   "cell_type": "markdown",
   "metadata": {},
   "source": [
    "## 概要"
   ]
  },
  {
   "cell_type": "markdown",
   "metadata": {},
   "source": [
    "機械学習の「学習」フェーズでは、学習モデルと入力データを準備し、パラメータを設定し、そして実際に実行（イテレーション実施）、という手順を踏んでいきます。  \n",
    "このノートブックでは、そういった手順を体験してみます。\n",
    "\n",
    "学習モデルは SSD (Single Shot Multibox Detector)、入力は前のステップで用意した学習データを利用します。"
   ]
  },
  {
   "cell_type": "markdown",
   "metadata": {},
   "source": [
    "## 準備"
   ]
  },
  {
   "cell_type": "code",
   "execution_count": null,
   "metadata": {
    "collapsed": true
   },
   "outputs": [],
   "source": [
    "import sys\n",
    "sys.path.append(r'../models/research')\n",
    "sys.path.append(r'../models/research/slim')\n",
    "\n",
    "import functools\n",
    "import glob\n",
    "import json\n",
    "import re\n",
    "\n",
    "import tensorflow as tf"
   ]
  },
  {
   "cell_type": "code",
   "execution_count": null,
   "metadata": {
    "collapsed": true
   },
   "outputs": [],
   "source": [
    "from object_detection import trainer\n",
    "from object_detection.builders import dataset_builder\n",
    "from object_detection.builders import model_builder\n",
    "from object_detection.utils import config_util\n",
    "from object_detection.utils import dataset_util"
   ]
  },
  {
   "cell_type": "markdown",
   "metadata": {},
   "source": [
    "↑警告が出ることがありますが気にしないでください。"
   ]
  },
  {
   "cell_type": "markdown",
   "metadata": {},
   "source": [
    "## 設定読込"
   ]
  },
  {
   "cell_type": "markdown",
   "metadata": {},
   "source": [
    "モデルおよび学習（訓練）の設定は、まとめて `ssd_mobilenet_v1_manabiya.pbtxt` というファイルに記述してあります。これを TF Object Detection で用意されているユーティリティ関数を利用して読み込みます。"
   ]
  },
  {
   "cell_type": "code",
   "execution_count": null,
   "metadata": {
    "collapsed": true
   },
   "outputs": [],
   "source": [
    "configs = config_util.get_configs_from_pipeline_file('./ssd_mobilenet_v1_manabiya.pbtxt')"
   ]
  },
  {
   "cell_type": "code",
   "execution_count": null,
   "metadata": {
    "collapsed": true
   },
   "outputs": [],
   "source": [
    "model_config = configs['model']\n",
    "train_config = configs['train_config']\n",
    "input_config = configs['train_input_config']"
   ]
  },
  {
   "cell_type": "markdown",
   "metadata": {},
   "source": [
    "### モデル設定確認"
   ]
  },
  {
   "cell_type": "code",
   "execution_count": null,
   "metadata": {
    "collapsed": true
   },
   "outputs": [],
   "source": [
    "model_config"
   ]
  },
  {
   "cell_type": "code",
   "execution_count": null,
   "metadata": {
    "collapsed": true
   },
   "outputs": [],
   "source": [
    "model_config.ssd.num_classes"
   ]
  },
  {
   "cell_type": "markdown",
   "metadata": {},
   "source": [
    "### 訓練 設定確認"
   ]
  },
  {
   "cell_type": "code",
   "execution_count": null,
   "metadata": {
    "collapsed": true
   },
   "outputs": [],
   "source": [
    "train_config"
   ]
  },
  {
   "cell_type": "code",
   "execution_count": null,
   "metadata": {
    "collapsed": true
   },
   "outputs": [],
   "source": [
    "train_config.num_steps"
   ]
  },
  {
   "cell_type": "markdown",
   "metadata": {},
   "source": [
    "↑ デフォルトは2000ステップにしてありますが、所要時間目安は以下の通り：\n",
    "\n",
    "+ `ml.p3.2xlarge`（GPUインスタンス）で実行した場合、約18分で完了します。  \n",
    "+ `ml.p2.xlarge`（GPUインスタンス）で実行した場合、約48分で完了します。  \n",
    "+ `ml.m4.xlarge`（CPUインスタンス）で実行した場合、約10時間（！）で完了します。  \n",
    "\n",
    "ハンズオン時間内に終わるよう、適宜修正してください。"
   ]
  },
  {
   "cell_type": "markdown",
   "metadata": {},
   "source": [
    "参考までに、所要時間が15分となるステップ数の目安を以下に示します：\n",
    "\n",
    "+ `ml.p3.2xlarge`（GPUインスタンス）：1600ステップ前後\n",
    "+ `ml.p2.xlarge`（GPUインスタンス）：600ステップ前後\n",
    "+ `ml.m4.xlarge`（CPUインスタンス）：40ステップ前後"
   ]
  },
  {
   "cell_type": "code",
   "execution_count": null,
   "metadata": {
    "collapsed": true
   },
   "outputs": [],
   "source": [
    "# train_config.num_steps = 100"
   ]
  },
  {
   "cell_type": "code",
   "execution_count": null,
   "metadata": {
    "collapsed": true
   },
   "outputs": [],
   "source": [
    "train_config.num_steps"
   ]
  },
  {
   "cell_type": "markdown",
   "metadata": {},
   "source": [
    "## 学習"
   ]
  },
  {
   "cell_type": "markdown",
   "metadata": {},
   "source": [
    "TF Object Detection で用意されている訓練機能を利用して、学習を実行します。"
   ]
  },
  {
   "cell_type": "markdown",
   "metadata": {},
   "source": [
    "### モデル"
   ]
  },
  {
   "cell_type": "markdown",
   "metadata": {},
   "source": [
    "`model_fn` を準備します。これは、学習に利用するモデルを生成する関数オブジェクトです。"
   ]
  },
  {
   "cell_type": "code",
   "execution_count": null,
   "metadata": {
    "collapsed": true
   },
   "outputs": [],
   "source": [
    "model_fn = functools.partial(\n",
    "    model_builder.build,\n",
    "    model_config=model_config,\n",
    "    is_training=True)"
   ]
  },
  {
   "cell_type": "markdown",
   "metadata": {},
   "source": [
    "### 入力"
   ]
  },
  {
   "cell_type": "markdown",
   "metadata": {},
   "source": [
    "`create_input_dict_fn` を準備します。これは、学習に利用する入力テンソル（教師およびラベル）を生成する関数オブジェクトです。"
   ]
  },
  {
   "cell_type": "code",
   "execution_count": null,
   "metadata": {
    "collapsed": true
   },
   "outputs": [],
   "source": [
    "def get_next(config):\n",
    "    return dataset_util.make_initializable_iterator(\n",
    "        dataset_builder.build(config)).get_next()\n",
    "\n",
    "create_input_dict_fn = functools.partial(get_next, input_config)"
   ]
  },
  {
   "cell_type": "markdown",
   "metadata": {},
   "source": [
    "### その他学習パラメータ"
   ]
  },
  {
   "cell_type": "markdown",
   "metadata": {},
   "source": [
    "TF Object Detection では、マルチタスク・マルチノードでの学習（分散学習）をすることもできます。  \n",
    "今回は簡単のため、シングルタスク・シングルノードで学習を実施します。以下はそのための設定となります。"
   ]
  },
  {
   "cell_type": "code",
   "execution_count": null,
   "metadata": {
    "collapsed": true
   },
   "outputs": [],
   "source": [
    "# シングルタスクの設定\n",
    "cluster_data = None\n",
    "cluster = None\n",
    "task_data = {'type': 'master', 'index': 0}\n",
    "task_info = type('TaskSpec', (object,), task_data)"
   ]
  },
  {
   "cell_type": "code",
   "execution_count": null,
   "metadata": {
    "collapsed": true
   },
   "outputs": [],
   "source": [
    "# シングルノードの設定\n",
    "ps_tasks = 0\n",
    "worker_replicas = 1\n",
    "worker_job_name = 'lonely_worker'\n",
    "task = 0\n",
    "is_chief = True\n",
    "master = ''\n",
    "num_clones = 1\n",
    "clone_on_cpu = False"
   ]
  },
  {
   "cell_type": "code",
   "execution_count": null,
   "metadata": {
    "collapsed": true
   },
   "outputs": [],
   "source": [
    "# 学習結果（チェックポイントファイル、データ確認用サマリ）出力先\n",
    "train_dir = './train'"
   ]
  },
  {
   "cell_type": "markdown",
   "metadata": {},
   "source": [
    "### 学習（訓練）実行"
   ]
  },
  {
   "cell_type": "code",
   "execution_count": null,
   "metadata": {
    "collapsed": true,
    "scrolled": true
   },
   "outputs": [],
   "source": [
    "%%time\n",
    "trainer.train(create_input_dict_fn, model_fn, train_config, master, task,\n",
    "    num_clones, worker_replicas, clone_on_cpu, ps_tasks,\n",
    "    worker_job_name, is_chief, train_dir)"
   ]
  },
  {
   "cell_type": "markdown",
   "metadata": {},
   "source": [
    "↑最初に警告が出ますが気にしないでください。"
   ]
  },
  {
   "cell_type": "markdown",
   "metadata": {},
   "source": [
    "## 補足：学習経過の観察"
   ]
  },
  {
   "cell_type": "markdown",
   "metadata": {},
   "source": [
    "実際の学習フェーズでは、学習（訓練）実行時に、並行してその経過を随時確認したりします。  \n",
    "その主な目的は以下の通りです：\n",
    "\n",
    "+ 学習の「進み具合」を確認する\n",
    "    + 例：loss の値を確認して発散していないかを確認する\n",
    "+ 「過学習」が起きていないかを確認する\n",
    "    + 例：訓練精度と検証精度を評価・比較して、乖離が起きていないかを確認する\n",
    "+ 学習の「やめどき」を図る\n",
    "    + 例：訓練精度と検証精度の乖離が起き始めた（＝過学習しだした）らやめる\n",
    "    + 例：評価指標を1つ決めて、その値が頭打ちになった（それ以上精度向上が見込めなくなった）らやめる"
   ]
  },
  {
   "cell_type": "markdown",
   "metadata": {},
   "source": [
    "学習の「進み具合」に関しては、今回も「学習（訓練）実行」セルの出力に随時 loss を表示しています。  \n",
    "「過学習」（および「やめどき」）に関しては今回のハンズオンでは省きます。  "
   ]
  },
  {
   "cell_type": "markdown",
   "metadata": {},
   "source": [
    "なお実際の現場では、ログ出力を目視確認するより、可視化（折れ線グラフ表示などで確認）ことも多いです。  \n",
    "例えば TensorFlow には「[TensorBoard](https://www.tensorflow.org/programmers_guide/summaries_and_tensorboard)」という可視化ツールが用意されています。TF Object Detection での学習結果の出力ファイルにはこの TensorBoard で可視化できる形式のデータも含まれています。"
   ]
  },
  {
   "cell_type": "markdown",
   "metadata": {},
   "source": [
    "## 補足：追加学習"
   ]
  },
  {
   "cell_type": "markdown",
   "metadata": {},
   "source": [
    "今回は限られた時間内のハンズオンなので、少ないステップ数での学習しか実行していません。  \n",
    "\n",
    "TF Object Detection は、学習途中からの追加学習にも対応しています。  \n",
    "このノートブックで言えば、上記の「学習（訓練）実行」セルを再実行すれば、それまでの学習結果を読み込んで学習を継続します（例えば、100ステップまで進んでいたら101ステップ目から継続します）。\n",
    "\n",
    "必要に応じて `train_config.num_steps` を調整して、またCPUインスタンスで実行していた場合はGPUインスタンスに切り替えたりして、追加学習も試してみてください。"
   ]
  },
  {
   "cell_type": "markdown",
   "metadata": {},
   "source": [
    "## 補足：SageMaker を利用した学習（および推測）について"
   ]
  },
  {
   "cell_type": "markdown",
   "metadata": {},
   "source": [
    "今回はハンズオン時間とライブラリやモデルの都合上、ノートブックインスタンス上で学習（およびその後の推測（検出））をすべて行っています。\n",
    "\n",
    "SageMaker では学習や推測のために別インスタンスを建てて、ノートブックインスタンスとは独立して実行・実施することも出来ます。  \n",
    "\n",
    "+ ジョブ：\n",
    "    + 学習時に建てられるインスタンス\n",
    "    + 学習経過を随時確認することも出来る（TensorFlow 利用時は [TensorBoard](https://www.tensorflow.org/programmers_guide/summaries_and_tensorboard) によるグラフのリアルタイム閲覧も）\n",
    "    + 指定したイテレーションが完了したら、S3にモデル（の学習後の変数情報）がアップロードされ、自動停止することもできる\n",
    "+ エンドポイント\n",
    "    + アップロードされたモデルを元に推測を行うためのインスタンス\n",
    "    + 所謂デプロイ。WebAPIを提供する\n",
    "\n",
    "特にデプロイしてエンドポイントを建てると、「画像を送って何が写っているか返す」ようなアプリに組み込んで使うことも出来るようになります。  "
   ]
  }
 ],
 "metadata": {
  "kernelspec": {
   "display_name": "conda_tensorflow_p27",
   "language": "python",
   "name": "conda_tensorflow_p27"
  },
  "language_info": {
   "codemirror_mode": {
    "name": "ipython",
    "version": 2
   },
   "file_extension": ".py",
   "mimetype": "text/x-python",
   "name": "python",
   "nbconvert_exporter": "python",
   "pygments_lexer": "ipython2",
   "version": "2.7.11"
  }
 },
 "nbformat": 4,
 "nbformat_minor": 2
}
